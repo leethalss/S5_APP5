{
 "cells": [
  {
   "cell_type": "markdown",
   "source": [
    "\n",
    "## Mandat 1 (Probabilités)\n",
    "### 1.Machine à sous\n",
    "i) Afin de déterminer quelle machine à le plus de chance d'offrir un pouvoir au joueur entre la machine 1 (3 roues ayant chacune 8 pictogramemes) et la machine 2 (4 roues ayant chacunes 5 pictogrammes), il suffit d'utiliser les technique de dénombrements afin de déterminer les probabilité que chaque roue s'arrêtent sur un même pictogramme. Ce faisant on trouve que la machine ayant le plus de chance d'offrir un pouvoir est la machine 1.\n"
   ],
   "metadata": {
    "collapsed": false
   },
   "id": "3b3bf4ea3299eb87"
  },
  {
   "cell_type": "code",
   "execution_count": 188,
   "outputs": [
    {
     "name": "stdout",
     "output_type": "stream",
     "text": [
      "Probabilité machine 1 : 0.001953125\n",
      "Probabilité machine 2 : 0.0016000000000000003\n"
     ]
    }
   ],
   "source": [
    "import numpy as np\n",
    "\n",
    "# 3 roues avec 8 pictogrammes\n",
    "prob_machine_1 = (1/8)**3\n",
    "print(f'Probabilité machine 1 : {prob_machine_1}')\n",
    "# 4 roues avec 5 pictogrammes\n",
    "prob_machine_2 = (1/5)**4\n",
    "print(f'Probabilité machine 2 : {prob_machine_2}')\n"
   ],
   "metadata": {
    "collapsed": false,
    "ExecuteTime": {
     "end_time": "2023-11-20T21:52:27.415392800Z",
     "start_time": "2023-11-20T21:52:27.284394400Z"
    }
   },
   "id": "ffd2210b352eb25b"
  },
  {
   "cell_type": "markdown",
   "source": [
    "ii) Afin de déterminer  les probabilités d'obtenir un pouvoir lorsque toutes les roues s'arrêtent sur un pictogramme différent, il suffit de faire appel aux permutations puisqu'il s'agit d'un arrangement ordonné.\n"
   ],
   "metadata": {
    "collapsed": false
   },
   "id": "c47740e40355c54d"
  },
  {
   "cell_type": "code",
   "execution_count": 189,
   "outputs": [
    {
     "name": "stdout",
     "output_type": "stream",
     "text": [
      "La probabilité de la machine 1 est : 65.625%\n",
      "La probabilité de la machine 2 est : 23.4375%\n"
     ]
    }
   ],
   "source": [
    "import math\n",
    "n_1, n_2 = 8, 5\n",
    "r_1, r_2 = 3, 4\n",
    "permutation_machine_1 = math.factorial(n_1)/math.factorial(n_1 - r_1)\n",
    "permutation_machine_2 = math.factorial(n_2)/math.factorial(n_2 - r_2)\n",
    "\n",
    "print(f'La probabilité de la machine 1 est : {permutation_machine_1/512 * 100}%')\n",
    "print(f'La probabilité de la machine 2 est : {permutation_machine_2/512 * 100}%')"
   ],
   "metadata": {
    "collapsed": false,
    "ExecuteTime": {
     "end_time": "2023-11-20T21:52:27.538393700Z",
     "start_time": "2023-11-20T21:52:27.300893100Z"
    }
   },
   "id": "da08d83fb86c9bcc"
  },
  {
   "cell_type": "markdown",
   "source": [
    "iii) Afin de déterminer les probabilité d'obtenir un pouvoir lorsque l'on réussi à avoir le même pictogramme sur toutes les roues au moins deux fois sur 5 lancés, il faut utiliser la fonction de masse de la loi binomiale... À compléter"
   ],
   "metadata": {
    "collapsed": false
   },
   "id": "26e9da79b78db34"
  },
  {
   "cell_type": "code",
   "execution_count": 190,
   "outputs": [
    {
     "name": "stdout",
     "output_type": "stream",
     "text": [
      "Probalilité de la machine 1 3.799817920935311e-05\n",
      "Moyenne de la variable aléatoire (Machine 1) 0.009765625\n",
      "Variance de la variable aléatoire (Machine 1) 0.009746551513671875\n",
      "Probalilité de la machine 2 2.5518178262351476e-05\n",
      "Moyenne de la variable aléatoire (Machine 2) 0.012800000000000002\n",
      "Variance de la variable aléatoire (Machine 2) 0.012779520000000003\n"
     ]
    }
   ],
   "source": [
    "probabilite_1 = (1 - (math.comb(5, 0) * (prob_machine_1**0)*(1-prob_machine_1)**5 +\n",
    "                 math.comb(5,1)*(prob_machine_1**1)*(1-prob_machine_1)**4))\n",
    "moy_1 = 5*prob_machine_1\n",
    "var_1 = moy_1*(1-prob_machine_1)\n",
    "print(\"Probalilité de la machine 1\", probabilite_1)\n",
    "print(\"Moyenne de la variable aléatoire (Machine 1)\" ,moy_1)\n",
    "print(\"Variance de la variable aléatoire (Machine 1)\",var_1)\n",
    "probabilite_2 = 1 - (math.comb(5, 0) * (prob_machine_2**0)*(1-prob_machine_2)**5 +\n",
    "                math.comb(5,1)*(prob_machine_2**1)*(1-prob_machine_2)**4)\n",
    "\n",
    "moy_2 = 8*prob_machine_2\n",
    "var_2 = moy_2*(1-prob_machine_2)\n",
    "print(\"Probalilité de la machine 2\", probabilite_2)\n",
    "print(\"Moyenne de la variable aléatoire (Machine 2)\" ,moy_2)\n",
    "print(\"Variance de la variable aléatoire (Machine 2)\",var_2)"
   ],
   "metadata": {
    "collapsed": false,
    "ExecuteTime": {
     "end_time": "2023-11-20T21:52:27.542392800Z",
     "start_time": "2023-11-20T21:52:27.325894300Z"
    }
   },
   "id": "61eac1913cab28c4"
  },
  {
   "cell_type": "markdown",
   "source": [
    "## 2. Ouverture de la porte\n",
    "\n",
    "### 2) Covariance de X et Y\n",
    "### 3) Correlation entre X et Y\n",
    "### 4) Fonction de densité de probabilité conditionnelle f(x,y|z)\n",
    "### 5) Fonctions de densité de probabilité marginale f(x|z)\n",
    "### 6) Fonctions de densité de probabilité marginale f(y|z)\n",
    "### 7) Probabilité que le personnage ouvre la porte < 1m\n",
    "### 8) Probabilité que le personnage ouvre la porte > 10 m"
   ],
   "metadata": {
    "collapsed": false
   },
   "id": "39a875686ab60a23"
  },
  {
   "cell_type": "markdown",
   "source": [
    "### 1) Indépendance de X et Y\n",
    "Afin de prouver l'indépendance de la variable aléatoire x et y, nous pouvons utiliser les propriétés des distributions normales bivariées .Dans notre cas, $\\sigma_x = 0,1m$ et  $\\sigma_y$ = 0.4 ou $\\sigma_y$ = 0.05. Ainsi, le grand axe de l'ellipse de la distribution normale bivariée est collinéaire à l'abssice X. \n",
    "### 2) Covariance de X et Y\n",
    "Comme la distribution de probabilité conjointes est réparti sur un cercle, la covariance est nulle.\n",
    "### 3) Correlation entre X et Y  \n",
    "Étant donnée que les variable X et Y sont indépendantes, la corellation est de 0. $\\rho$ = 0  \n",
    "### 4) Fonction de densité de probabilité conditionnelle f(x,y|z) \n",
    " La variable aléatoire y est dépandante de la variable aléatoire z. Ainsi, afin de sortir la fonction de densité de la probabilité conditionnelle f(x,y|z), il est possible de seulement utiliser la fonction de densité normale bivariée et de faire varié $\\sigma_y$ en fonction de la valeur de z.Sachant que $\\rho= 0$ on a :.\n",
    " \\begin{center}\n",
    " $f(x,y|z) = \\frac{1}{2\\pi\\sigma_x\\sigma_y} * e^{\\frac{-1}{2} [\\frac{(x-\\mu_x)^2}{\\sigma_x^2} + \\frac{(y-\\mu_y)^2}{\\sigma_y^2}]}$  \n",
    " \n",
    "\\end{center}   \n",
    "Donc pour z > 10m on a:\n",
    " \\begin{center}$f(x,y|z > 10) = \\frac{1}{2\\pi *0.1 * 0.4} * e^{ [-50x^2-3.125y^2]}$ \\end{center}  \n",
    "Et pour z < 1 on a : \n",
    "\\begin{center}$f(x,y|z < 1) = \\frac{1}{2\\pi *0.1*0.05} * e^{ [-50x^2-200y^2]}$ \\end{center}\n",
    "\n",
    "### 5) Fonctions de densité de probabilité marginale f(x|z) \n",
    "Puisque les variables X et Y sont indépendantes on a que : \n",
    "\n",
    "\\begin{center}$f(x,y) = f_x(x) * f_y(y)\\end{center}\n",
    "La fonction de densité d'un distribution normale est données par :\n",
    " \\begin{center}$f_x(x) = \\frac{1}{\\sqrt{2\\pi}\\sigma_X} * e^{-\\frac{(x-\\mu_x)^2 }{2\\sigma_x}}$ \\end{center}\n",
    "En utilisant les fonctions de densités trouvé en 4) pour les différentes valeurs de z on trouve que \n",
    "\n",
    "Donc pour z > 10m et pour z< 1m on a :\n",
    "\n",
    "\\begin{center}$f_x(x|z) = \\frac{1}{\\sqrt{2\\pi}*0.1} * e^{-50x^2}$ \\end{center}\n",
    "### 6) Fonctions de densité de probabilité marginale f(y|z) \n",
    "Pour Z> 10m on a : \n",
    "\n",
    "\\begin{center}$f_y(y|z>10) = \\frac{1}{\\sqrt{2\\pi}*0.4} * e^{-3.125y^2}$ \\end{center}\n",
    "\n",
    "On peut vérifier que $f(x,y) = f_x(x) * f_y(y)$:\n",
    "\n",
    "\\begin{center} $f(x,y) = (\\frac{1}{\\sqrt{2\\pi}*0.4} * e^{-3.125y^2}) * (\\frac{1}{\\sqrt{2\\pi}*0.1} * e^{-50x^2}) = \\frac{1}{2\\pi *0.1 * 0.4} * e^{ [-50x^2-3.125y^2]} $  \\end{center} \n",
    "\n",
    "Pour Z< 1m on a : \n",
    "\n",
    "\\begin{center}$f_y(y|z<1) = \\frac{1}{\\sqrt{2\\pi}*0.05} * e^{-200y^2}$ \\end{center}\n",
    "\n",
    "On peut vérifier que $f(x,y) = f_x(x) * f_y(y)$:\n",
    "\n",
    "\\begin{center} $f(x,y) = (\\frac{1}{\\sqrt{2\\pi}*0.05} * e^{-200y^2}) * (\\frac{1}{\\sqrt{2\\pi}*0.1} * e^{-50x^2}) = \\frac{1}{2\\pi *0.1 * 0.05} * e^{ [-50x^2-200y^2]} $  \\end{center} "
   ],
   "metadata": {
    "collapsed": false
   },
   "id": "1b12d5f80bb4a926"
  },
  {
   "cell_type": "markdown",
   "source": [
    "## Mandat no 2 : Statistiques\n",
    "\n",
    "i) Un échantillon présentant des temps de jeu de joueurs est présenté dans le fichier \"TempsDeJeux.txt\".Les statistique descriptives ont été calculés et sont présentées dans le tableau ci-bas. \n",
    "\n"
   ],
   "metadata": {
    "collapsed": false
   },
   "id": "29f5eb28ed134514"
  },
  {
   "cell_type": "code",
   "execution_count": 191,
   "outputs": [
    {
     "name": "stdout",
     "output_type": "stream",
     "text": [
      "Moyenne : 280.58\n",
      "Medianne : 279.0\n",
      "Mode : 291.0\n",
      "Écart type : 50.12448104469512\n",
      "Variance : 2512.463600000001\n",
      "Min : 148.0\n",
      "Max : 382.0\n",
      "Étendue : 234.0\n"
     ]
    },
    {
     "data": {
      "text/plain": "               Statistique       Valeur\n0  Moyenne échantillonnale   280.580000\n1                  Médiane   279.000000\n2                     Mode   291.000000\n3               Écart type    50.124481\n4                 Variance  2512.463600\n5                  Minimum   148.000000\n6                  Maximum   382.000000\n7                  Étendue   234.000000",
      "text/html": "<div>\n<style scoped>\n    .dataframe tbody tr th:only-of-type {\n        vertical-align: middle;\n    }\n\n    .dataframe tbody tr th {\n        vertical-align: top;\n    }\n\n    .dataframe thead th {\n        text-align: right;\n    }\n</style>\n<table border=\"1\" class=\"dataframe\">\n  <thead>\n    <tr style=\"text-align: right;\">\n      <th></th>\n      <th>Statistique</th>\n      <th>Valeur</th>\n    </tr>\n  </thead>\n  <tbody>\n    <tr>\n      <th>0</th>\n      <td>Moyenne échantillonnale</td>\n      <td>280.580000</td>\n    </tr>\n    <tr>\n      <th>1</th>\n      <td>Médiane</td>\n      <td>279.000000</td>\n    </tr>\n    <tr>\n      <th>2</th>\n      <td>Mode</td>\n      <td>291.000000</td>\n    </tr>\n    <tr>\n      <th>3</th>\n      <td>Écart type</td>\n      <td>50.124481</td>\n    </tr>\n    <tr>\n      <th>4</th>\n      <td>Variance</td>\n      <td>2512.463600</td>\n    </tr>\n    <tr>\n      <th>5</th>\n      <td>Minimum</td>\n      <td>148.000000</td>\n    </tr>\n    <tr>\n      <th>6</th>\n      <td>Maximum</td>\n      <td>382.000000</td>\n    </tr>\n    <tr>\n      <th>7</th>\n      <td>Étendue</td>\n      <td>234.000000</td>\n    </tr>\n  </tbody>\n</table>\n</div>"
     },
     "execution_count": 191,
     "metadata": {},
     "output_type": "execute_result"
    }
   ],
   "source": [
    "from statistics import mode\n",
    "import pandas as pd\n",
    "file = np.loadtxt('TempsDeJeu.txt')\n",
    "nbEchantillons = len(file)\n",
    "moyenne = np.mean(file)\n",
    "print(f'Moyenne : {moyenne}')\n",
    "medianne = np.median(file)\n",
    "print(f'Medianne : {medianne}')\n",
    "mode = mode(file)\n",
    "print(f'Mode : {mode}')\n",
    "std = np.std(file)\n",
    "print(f'Écart type : {std}')\n",
    "var = std**2\n",
    "print(f'Variance : {var}')\n",
    "min = np.min(file)\n",
    "print(f'Min : {min}')\n",
    "max = np.max(file)\n",
    "print(f'Max : {max}')\n",
    "etendue = max - min\n",
    "print(f'Étendue : {etendue}')\n",
    "\n",
    "data = {\n",
    "    'Statistique': ['Moyenne échantillonnale', 'Médiane', 'Mode', 'Écart type', 'Variance', 'Minimum', 'Maximum', 'Étendue'],\n",
    "    'Valeur': [moyenne, medianne, mode, std, var, min, max, etendue]\n",
    "\n",
    "\n",
    "}\n",
    "pd.DataFrame(data)\n"
   ],
   "metadata": {
    "collapsed": false,
    "ExecuteTime": {
     "end_time": "2023-11-20T21:52:27.578392500Z",
     "start_time": "2023-11-20T21:52:27.354449300Z"
    }
   },
   "id": "4a95c2c7739b1ee5"
  },
  {
   "cell_type": "markdown",
   "source": [
    "ii) Un histogramme a été créer en utilisant le tableau ci-bas. Afin de déterminer le nombre de classes à utiliser dans l'historamme, la racine carrée du nombre d'échantillons a été utiliser. Il suffisait alors de déterminer des limites pour les classes qui faisaient du sens avec le min et le max de la population et de compter l'occurence pour chaque classe."
   ],
   "metadata": {
    "collapsed": false
   },
   "id": "a296be48fd4659c9"
  },
  {
   "cell_type": "code",
   "execution_count": 192,
   "outputs": [
    {
     "data": {
      "text/plain": "   Classes  Limites_min  Limites_max  Centres  Frequences  \\\n0      0.0        148.0        172.0    160.0         2.0   \n1      1.0        172.0        196.0    184.0         3.0   \n2      2.0        196.0        220.0    208.0         6.0   \n3      3.0        220.0        244.0    232.0         8.0   \n4      4.0        244.0        268.0    256.0        21.0   \n5      5.0        268.0        292.0    280.0        22.0   \n6      6.0        292.0        316.0    304.0        15.0   \n7      7.0        316.0        340.0    328.0         9.0   \n8      8.0        340.0        364.0    352.0         8.0   \n9      9.0        364.0        388.0    376.0         6.0   \n\n   Frequences relative  Frequences cumulative  \n0                 0.02                    2.0  \n1                 0.03                    5.0  \n2                 0.06                   11.0  \n3                 0.08                   19.0  \n4                 0.21                   40.0  \n5                 0.22                   62.0  \n6                 0.15                   77.0  \n7                 0.09                   86.0  \n8                 0.08                   94.0  \n9                 0.06                  100.0  ",
      "text/html": "<div>\n<style scoped>\n    .dataframe tbody tr th:only-of-type {\n        vertical-align: middle;\n    }\n\n    .dataframe tbody tr th {\n        vertical-align: top;\n    }\n\n    .dataframe thead th {\n        text-align: right;\n    }\n</style>\n<table border=\"1\" class=\"dataframe\">\n  <thead>\n    <tr style=\"text-align: right;\">\n      <th></th>\n      <th>Classes</th>\n      <th>Limites_min</th>\n      <th>Limites_max</th>\n      <th>Centres</th>\n      <th>Frequences</th>\n      <th>Frequences relative</th>\n      <th>Frequences cumulative</th>\n    </tr>\n  </thead>\n  <tbody>\n    <tr>\n      <th>0</th>\n      <td>0.0</td>\n      <td>148.0</td>\n      <td>172.0</td>\n      <td>160.0</td>\n      <td>2.0</td>\n      <td>0.02</td>\n      <td>2.0</td>\n    </tr>\n    <tr>\n      <th>1</th>\n      <td>1.0</td>\n      <td>172.0</td>\n      <td>196.0</td>\n      <td>184.0</td>\n      <td>3.0</td>\n      <td>0.03</td>\n      <td>5.0</td>\n    </tr>\n    <tr>\n      <th>2</th>\n      <td>2.0</td>\n      <td>196.0</td>\n      <td>220.0</td>\n      <td>208.0</td>\n      <td>6.0</td>\n      <td>0.06</td>\n      <td>11.0</td>\n    </tr>\n    <tr>\n      <th>3</th>\n      <td>3.0</td>\n      <td>220.0</td>\n      <td>244.0</td>\n      <td>232.0</td>\n      <td>8.0</td>\n      <td>0.08</td>\n      <td>19.0</td>\n    </tr>\n    <tr>\n      <th>4</th>\n      <td>4.0</td>\n      <td>244.0</td>\n      <td>268.0</td>\n      <td>256.0</td>\n      <td>21.0</td>\n      <td>0.21</td>\n      <td>40.0</td>\n    </tr>\n    <tr>\n      <th>5</th>\n      <td>5.0</td>\n      <td>268.0</td>\n      <td>292.0</td>\n      <td>280.0</td>\n      <td>22.0</td>\n      <td>0.22</td>\n      <td>62.0</td>\n    </tr>\n    <tr>\n      <th>6</th>\n      <td>6.0</td>\n      <td>292.0</td>\n      <td>316.0</td>\n      <td>304.0</td>\n      <td>15.0</td>\n      <td>0.15</td>\n      <td>77.0</td>\n    </tr>\n    <tr>\n      <th>7</th>\n      <td>7.0</td>\n      <td>316.0</td>\n      <td>340.0</td>\n      <td>328.0</td>\n      <td>9.0</td>\n      <td>0.09</td>\n      <td>86.0</td>\n    </tr>\n    <tr>\n      <th>8</th>\n      <td>8.0</td>\n      <td>340.0</td>\n      <td>364.0</td>\n      <td>352.0</td>\n      <td>8.0</td>\n      <td>0.08</td>\n      <td>94.0</td>\n    </tr>\n    <tr>\n      <th>9</th>\n      <td>9.0</td>\n      <td>364.0</td>\n      <td>388.0</td>\n      <td>376.0</td>\n      <td>6.0</td>\n      <td>0.06</td>\n      <td>100.0</td>\n    </tr>\n  </tbody>\n</table>\n</div>"
     },
     "execution_count": 192,
     "metadata": {},
     "output_type": "execute_result"
    }
   ],
   "source": [
    "\n",
    "\n",
    "classes = []\n",
    "limites_min = []\n",
    "limites_max = []\n",
    "centres = []\n",
    "frequences = []\n",
    "frequences_relative = []\n",
    "frequences_cumul = []\n",
    "cumul = 0\n",
    "for i in range(0, int(np.sqrt(len(file)))):\n",
    "    classes.append(i)\n",
    "    limites_min.append(min + i*(24))\n",
    "    limites_max.append(min + (i+1)*(24))\n",
    "    centres.append((limites_min[i] + limites_max[i])/2)\n",
    "    occurence = 0\n",
    "    for k in file:\n",
    "        if k >= limites_min[i] and k < limites_max[i]:\n",
    "            occurence += 1\n",
    "            cumul += 1\n",
    "    frequences.append(occurence)\n",
    "    frequences_relative.append(occurence/len(file))\n",
    "    frequences_cumul.append(cumul)\n",
    "bigasstab = [classes, limites_min, limites_max, centres, frequences, frequences_relative, frequences_cumul]\n",
    "\n",
    "bigasstab = np.transpose(bigasstab)\n",
    "pd.DataFrame(bigasstab, columns=['Classes', 'Limites_min', 'Limites_max', 'Centres', 'Frequences', 'Frequences relative', 'Frequences cumulative'])\n"
   ],
   "metadata": {
    "collapsed": false,
    "ExecuteTime": {
     "end_time": "2023-11-20T21:52:27.582892900Z",
     "start_time": "2023-11-20T21:52:27.397424800Z"
    }
   },
   "id": "6efda68425883eff"
  },
  {
   "cell_type": "code",
   "execution_count": 193,
   "outputs": [
    {
     "data": {
      "text/plain": "<Figure size 640x480 with 1 Axes>",
      "image/png": "[encoded data removed]"
     },
     "metadata": {},
     "output_type": "display_data"
    }
   ],
   "source": [
    "import matplotlib.pyplot as plt\n",
    "\n",
    "plt.hist(file, bins=range(int(min), int(max) +24, 24))\n",
    "plt.title(\"Histogramme du temps de jeux des joueurs\")\n",
    "plt.xlabel(\"Temps (minutes)\")\n",
    "plt.ylabel(\"Nombre de joueurs\")\n",
    "plt.show()"
   ],
   "metadata": {
    "collapsed": false,
    "ExecuteTime": {
     "end_time": "2023-11-20T21:52:27.665418500Z",
     "start_time": "2023-11-20T21:52:27.423893300Z"
    }
   },
   "id": "24a46a234d328480"
  },
  {
   "cell_type": "markdown",
   "source": [
    "iii) En utilisant les tables de la distributions normale, un intervale de confiance sur la moyenne a été calculée avec un niveau de confiance de 95 %"
   ],
   "metadata": {
    "collapsed": false
   },
   "id": "6db736e824430aa6"
  },
  {
   "cell_type": "code",
   "execution_count": 194,
   "outputs": [
    {
     "name": "stdout",
     "output_type": "stream",
     "text": [
      "270.7556017152397 <= u <= 290.40439828476025\n"
     ]
    }
   ],
   "source": [
    "interval_borne_min = moyenne-1.96*std/np.sqrt(100)\n",
    "interval_borne_max = moyenne+1.96*std/np.sqrt(100)\n",
    "print(f'{interval_borne_min} <= u <= {interval_borne_max}')"
   ],
   "metadata": {
    "collapsed": false,
    "ExecuteTime": {
     "end_time": "2023-11-20T21:52:27.666420400Z",
     "start_time": "2023-11-20T21:52:27.595893700Z"
    }
   },
   "id": "5be0aac8798e7c23"
  },
  {
   "cell_type": "markdown",
   "source": [
    "iv) Le patron du jeux vidéo estime que le temps moyen de jeu des joueurs est d'au moins 5h (300 minutes). Afin de valider ou non cette hyptohese, un test d'hypothèse sera effectuer.On a donc:\n",
    "  \\begin{center}$μ_0 = 300$\\end{center}\n",
    "  \\begin{center}$H_0 =\\mu\\ge\\mu_0$\\end{center}\n",
    "  \\begin{center}$H_1 = \\mu < \\mu_0$\\end{center}\n",
    "Nous utiliserons la statistique de test $Z_0 = \\frac{\\bar{X} - \\mu_0}{ s / \\sqrt n)}$ puisque la variance est connue (point i)\n",
    "Afin de rejeter ou non l'hypothèse $H_0$, il suffit alors d'utiliser le Critère de rejet de $H_0$: $Z_0 < -Z_\\alpha$ ou $Z_\\alpha = 1.96$ avec un niveau de confiance de 95%"
   ],
   "metadata": {
    "collapsed": false
   },
   "id": "64fd1fdb36cbfc8f"
  },
  {
   "cell_type": "code",
   "execution_count": 195,
   "outputs": [
    {
     "name": "stdout",
     "output_type": "stream",
     "text": [
      "L'hypotèse est rejetée\n"
     ]
    }
   ],
   "source": [
    "U0 = 300\n",
    "#calcul de Z0\n",
    "Z0 = (moyenne - U0)/((std/np.sqrt(nbEchantillons)))\n",
    "Za = 1.96\n",
    "if Z0 < Za * -1:\n",
    "    print(\"L'hypotèse est rejetée\")\n",
    "else:\n",
    "    print(\"L'hypothèse est retenue\")"
   ],
   "metadata": {
    "collapsed": false,
    "ExecuteTime": {
     "end_time": "2023-11-20T21:52:27.745423100Z",
     "start_time": "2023-11-20T21:52:27.612893600Z"
    }
   },
   "id": "41c2ba7f6e3a1cda"
  },
  {
   "cell_type": "markdown",
   "source": [
    "L'erreur de première espece est la probabilité de rejeter à tort l'hypothèse émise :\n",
    "$P(rejeter\\; H_0 | H_0\\;est\\;vraie)$\n",
    "$P(\\bar{X} < 300 | \\mu = 300)$\n",
    "On trouve donc que l'erreur de première espèce est de 1-95% = 5%\n"
   ],
   "metadata": {
    "collapsed": false
   },
   "id": "299399d48a520d50"
  },
  {
   "cell_type": "markdown",
   "source": [
    "v) L'erreur de deuxième espèce est $P(Non\\; rejet\\; H_0 |H_0\\; fausse)$ : $P(\\bar{X} >300 | \\mu_0 = \\bar{x}) $\n",
    "$P(Z >  \\frac{300-280.12}{s/\\sqrt(n)})$ --> P(Z>3.87) = 1 - 0.999946 ="
   ],
   "metadata": {
    "collapsed": false
   },
   "id": "7b5db5f4b7936f83"
  },
  {
   "cell_type": "markdown",
   "source": [
    "vi)\n",
    "1. $\\sigma$\n",
    "2. $H_0 = \\sigma^2 = 50^2$\n",
    "3. $H_1 = \\sigma^2 \\neq 50^2$\n",
    "4. $X^2_0 = \\frac{(n-1)s^2}{\\sigma^2_0)$\n",
    "5. $X^2_0 > X^2_{\\alpha/2:n-1}$ ou $X^2_0 < X^2_{1-\\alpha:n-1}$\n",
    "6. "
   ],
   "metadata": {
    "collapsed": false
   },
   "id": "e633f931716a7643"
  },
  {
   "cell_type": "code",
   "execution_count": 196,
   "outputs": [
    {
     "name": "stdout",
     "output_type": "stream",
     "text": [
      "Non rejet de H0\n"
     ]
    }
   ],
   "source": [
    "Chi0= ((nbEchantillons-1)*std**2)/50**2\n",
    "chi1 = 128.418\n",
    "chi2 = 73.363\n",
    "if Chi0 > chi1 or Chi0 < chi2:\n",
    "    print(\"Rejet H0\")\n",
    "else:\n",
    "    print(\"Non rejet de H0\")"
   ],
   "metadata": {
    "collapsed": false,
    "ExecuteTime": {
     "end_time": "2023-11-20T21:52:27.759936500Z",
     "start_time": "2023-11-20T21:52:27.627392900Z"
    }
   },
   "id": "d51d0aecb595cba7"
  },
  {
   "cell_type": "markdown",
   "source": [
    "vii)\n",
    "On souhaite s'assurer que les données du fichier suivent une distribution normale. Pour ce faire un test d'ajustement doit être effecuter.\n",
    "1. $H_0$ : Suit un distribution normale\n",
    "2. $H_1$ : ne suit un distribution normale\n",
    "3. $X^2_0 = \\sum{ \\frac{(O_i - E_i)^2}{E_i}}$\n",
    "4. $X^2_0 > X^2_{\\alpha:k-p-1}$"
   ],
   "metadata": {
    "collapsed": false
   },
   "id": "5819117e02a20486"
  },
  {
   "cell_type": "code",
   "execution_count": 197,
   "outputs": [
    {
     "name": "stdout",
     "output_type": "stream",
     "text": [
      "7.325358174763942\n",
      "on ne rejette pas : Suit bient une distribution normale\n"
     ]
    }
   ],
   "source": [
    "import scipy\n",
    "SommeChie = 0\n",
    "for ligne in bigasstab:\n",
    "    borneDroit = (ligne[2] - moyenne)/std    \n",
    "    borneGauche =(ligne[1] - moyenne)/std\n",
    "    O= ligne[4]\n",
    "    Pi =  scipy.stats.norm.cdf(borneDroit) - scipy.stats.norm.cdf(borneGauche)\n",
    "    Ei = 100 * Pi\n",
    "    SommeChie +=(O-Ei)**2/Ei\n",
    "print(SommeChie)\n",
    "khi1 = 14.07\n",
    "if SommeChie > khi1:\n",
    "    print(\"on Rejette: ne suit pas une distribution normale\")\n",
    "else:\n",
    "    print(\"on ne rejette pas : Suit bient une distribution normale\")"
   ],
   "metadata": {
    "collapsed": false,
    "ExecuteTime": {
     "end_time": "2023-11-20T21:52:27.760423600Z",
     "start_time": "2023-11-20T21:52:27.643404Z"
    }
   },
   "id": "adb2f73a1e518fee"
  },
  {
   "cell_type": "markdown",
   "source": [
    "## Mandat no 3 : Monte Carlo\n",
    "### Raélisation de 10 000\n",
    "Afin de déterminer les temps de branchement des joueurs, nous utiliserons la méthode de simulation monte carlo, à l'aide de la méthode de de la fonction de distribution cumulative inverse. Étant donné que le temps entre chaque arrivé de joueur peut être modelisé par une variable exponentielle, on peut utiliser la fonction de densité de la distribution exponentielle.:\n",
    "\\begin{center} $f(x) = \\lambda e^{-\\lambda x}$ \\end{center}\n",
    "Il suffit alors d'integrer cette fonction afin d'obtenir la CDF:\n",
    "\\begin{center} $F(x) = 1- e^{-\\lambda x}$ \\end{center}\n",
    "Nous pouvons alors inverser la CDF afin de pouvoir obtenir des valeur de x en fonction de F(X)\n",
    "\\begin{center} $x = \\frac{-log(1-F(X))}{\\lambda}$ \\end{center}\n",
    "On trouve alors 10000 valeurs de x en faisant varié F(X) en utilisant des nombres aléatoires"
   ],
   "metadata": {
    "collapsed": false
   },
   "id": "4a27bbf86d531f66"
  },
  {
   "cell_type": "code",
   "execution_count": 198,
   "outputs": [
    {
     "name": "stderr",
     "output_type": "stream",
     "text": [
      "C:\\Users\\rriou\\AppData\\Local\\Temp\\ipykernel_20068\\702664443.py:12: RuntimeWarning: invalid value encountered in log\n",
      "  q[i] =np.sqrt(- np.log(-(aleatoire2[i] * 2  -1 )**2 +1 ) / (np.sqrt(np.pi/8)))\n",
      "C:\\Users\\rriou\\AppData\\Local\\Temp\\ipykernel_20068\\702664443.py:14: RuntimeWarning: invalid value encountered in log\n",
      "  q[i] = -np.sqrt(- np.log(-(aleatoire2[i] * 2  -1 )**2 +1 ) / (np.sqrt(np.pi/8)))\n"
     ]
    },
    {
     "data": {
      "text/plain": "<Figure size 640x480 with 1 Axes>",
      "image/png": "[encoded data removed]"
     },
     "metadata": {},
     "output_type": "display_data"
    },
    {
     "name": "stderr",
     "output_type": "stream",
     "text": [
      "D:\\S5\\APP5\\App2\\venv\\lib\\site-packages\\matplotlib\\axes\\_axes.py:6831: RuntimeWarning: All-NaN slice encountered\n",
      "  xmin = min(xmin, np.nanmin(xi))\n",
      "D:\\S5\\APP5\\App2\\venv\\lib\\site-packages\\matplotlib\\axes\\_axes.py:6832: RuntimeWarning: All-NaN slice encountered\n",
      "  xmax = max(xmax, np.nanmax(xi))\n"
     ]
    },
    {
     "ename": "ValueError",
     "evalue": "autodetected range of [nan, nan] is not finite",
     "output_type": "error",
     "traceback": [
      "\u001B[1;31m---------------------------------------------------------------------------\u001B[0m",
      "\u001B[1;31mValueError\u001B[0m                                Traceback (most recent call last)",
      "Cell \u001B[1;32mIn[198], line 18\u001B[0m\n\u001B[0;32m     16\u001B[0m plt\u001B[38;5;241m.\u001B[39mhist(p)\n\u001B[0;32m     17\u001B[0m plt\u001B[38;5;241m.\u001B[39mshow()\n\u001B[1;32m---> 18\u001B[0m \u001B[43mplt\u001B[49m\u001B[38;5;241;43m.\u001B[39;49m\u001B[43mhist\u001B[49m\u001B[43m(\u001B[49m\u001B[43mq\u001B[49m\u001B[43m)\u001B[49m\n\u001B[0;32m     19\u001B[0m plt\u001B[38;5;241m.\u001B[39mshow()\n",
      "File \u001B[1;32mD:\\S5\\APP5\\App2\\venv\\lib\\site-packages\\matplotlib\\pyplot.py:3221\u001B[0m, in \u001B[0;36mhist\u001B[1;34m(x, bins, range, density, weights, cumulative, bottom, histtype, align, orientation, rwidth, log, color, label, stacked, data, **kwargs)\u001B[0m\n\u001B[0;32m   3196\u001B[0m \u001B[38;5;129m@_copy_docstring_and_deprecators\u001B[39m(Axes\u001B[38;5;241m.\u001B[39mhist)\n\u001B[0;32m   3197\u001B[0m \u001B[38;5;28;01mdef\u001B[39;00m \u001B[38;5;21mhist\u001B[39m(\n\u001B[0;32m   3198\u001B[0m     x: ArrayLike \u001B[38;5;241m|\u001B[39m Sequence[ArrayLike],\n\u001B[1;32m   (...)\u001B[0m\n\u001B[0;32m   3219\u001B[0m     BarContainer \u001B[38;5;241m|\u001B[39m Polygon \u001B[38;5;241m|\u001B[39m \u001B[38;5;28mlist\u001B[39m[BarContainer \u001B[38;5;241m|\u001B[39m Polygon],\n\u001B[0;32m   3220\u001B[0m ]:\n\u001B[1;32m-> 3221\u001B[0m     \u001B[38;5;28;01mreturn\u001B[39;00m gca()\u001B[38;5;241m.\u001B[39mhist(\n\u001B[0;32m   3222\u001B[0m         x,\n\u001B[0;32m   3223\u001B[0m         bins\u001B[38;5;241m=\u001B[39mbins,\n\u001B[0;32m   3224\u001B[0m         \u001B[38;5;28mrange\u001B[39m\u001B[38;5;241m=\u001B[39m\u001B[38;5;28mrange\u001B[39m,\n\u001B[0;32m   3225\u001B[0m         density\u001B[38;5;241m=\u001B[39mdensity,\n\u001B[0;32m   3226\u001B[0m         weights\u001B[38;5;241m=\u001B[39mweights,\n\u001B[0;32m   3227\u001B[0m         cumulative\u001B[38;5;241m=\u001B[39mcumulative,\n\u001B[0;32m   3228\u001B[0m         bottom\u001B[38;5;241m=\u001B[39mbottom,\n\u001B[0;32m   3229\u001B[0m         histtype\u001B[38;5;241m=\u001B[39mhisttype,\n\u001B[0;32m   3230\u001B[0m         align\u001B[38;5;241m=\u001B[39malign,\n\u001B[0;32m   3231\u001B[0m         orientation\u001B[38;5;241m=\u001B[39morientation,\n\u001B[0;32m   3232\u001B[0m         rwidth\u001B[38;5;241m=\u001B[39mrwidth,\n\u001B[0;32m   3233\u001B[0m         log\u001B[38;5;241m=\u001B[39mlog,\n\u001B[0;32m   3234\u001B[0m         color\u001B[38;5;241m=\u001B[39mcolor,\n\u001B[0;32m   3235\u001B[0m         label\u001B[38;5;241m=\u001B[39mlabel,\n\u001B[0;32m   3236\u001B[0m         stacked\u001B[38;5;241m=\u001B[39mstacked,\n\u001B[0;32m   3237\u001B[0m         \u001B[38;5;241m*\u001B[39m\u001B[38;5;241m*\u001B[39m({\u001B[38;5;124m\"\u001B[39m\u001B[38;5;124mdata\u001B[39m\u001B[38;5;124m\"\u001B[39m: data} \u001B[38;5;28;01mif\u001B[39;00m data \u001B[38;5;129;01mis\u001B[39;00m \u001B[38;5;129;01mnot\u001B[39;00m \u001B[38;5;28;01mNone\u001B[39;00m \u001B[38;5;28;01melse\u001B[39;00m {}),\n\u001B[0;32m   3238\u001B[0m         \u001B[38;5;241m*\u001B[39m\u001B[38;5;241m*\u001B[39mkwargs,\n\u001B[0;32m   3239\u001B[0m     )\n",
      "File \u001B[1;32mD:\\S5\\APP5\\App2\\venv\\lib\\site-packages\\matplotlib\\__init__.py:1478\u001B[0m, in \u001B[0;36m_preprocess_data.<locals>.inner\u001B[1;34m(ax, data, *args, **kwargs)\u001B[0m\n\u001B[0;32m   1475\u001B[0m \u001B[38;5;129m@functools\u001B[39m\u001B[38;5;241m.\u001B[39mwraps(func)\n\u001B[0;32m   1476\u001B[0m \u001B[38;5;28;01mdef\u001B[39;00m \u001B[38;5;21minner\u001B[39m(ax, \u001B[38;5;241m*\u001B[39margs, data\u001B[38;5;241m=\u001B[39m\u001B[38;5;28;01mNone\u001B[39;00m, \u001B[38;5;241m*\u001B[39m\u001B[38;5;241m*\u001B[39mkwargs):\n\u001B[0;32m   1477\u001B[0m     \u001B[38;5;28;01mif\u001B[39;00m data \u001B[38;5;129;01mis\u001B[39;00m \u001B[38;5;28;01mNone\u001B[39;00m:\n\u001B[1;32m-> 1478\u001B[0m         \u001B[38;5;28;01mreturn\u001B[39;00m func(ax, \u001B[38;5;241m*\u001B[39m\u001B[38;5;28mmap\u001B[39m(sanitize_sequence, args), \u001B[38;5;241m*\u001B[39m\u001B[38;5;241m*\u001B[39mkwargs)\n\u001B[0;32m   1480\u001B[0m     bound \u001B[38;5;241m=\u001B[39m new_sig\u001B[38;5;241m.\u001B[39mbind(ax, \u001B[38;5;241m*\u001B[39margs, \u001B[38;5;241m*\u001B[39m\u001B[38;5;241m*\u001B[39mkwargs)\n\u001B[0;32m   1481\u001B[0m     auto_label \u001B[38;5;241m=\u001B[39m (bound\u001B[38;5;241m.\u001B[39marguments\u001B[38;5;241m.\u001B[39mget(label_namer)\n\u001B[0;32m   1482\u001B[0m                   \u001B[38;5;129;01mor\u001B[39;00m bound\u001B[38;5;241m.\u001B[39mkwargs\u001B[38;5;241m.\u001B[39mget(label_namer))\n",
      "File \u001B[1;32mD:\\S5\\APP5\\App2\\venv\\lib\\site-packages\\matplotlib\\axes\\_axes.py:6859\u001B[0m, in \u001B[0;36mAxes.hist\u001B[1;34m(self, x, bins, range, density, weights, cumulative, bottom, histtype, align, orientation, rwidth, log, color, label, stacked, **kwargs)\u001B[0m\n\u001B[0;32m   6855\u001B[0m \u001B[38;5;66;03m# Loop through datasets\u001B[39;00m\n\u001B[0;32m   6856\u001B[0m \u001B[38;5;28;01mfor\u001B[39;00m i \u001B[38;5;129;01min\u001B[39;00m \u001B[38;5;28mrange\u001B[39m(nx):\n\u001B[0;32m   6857\u001B[0m     \u001B[38;5;66;03m# this will automatically overwrite bins,\u001B[39;00m\n\u001B[0;32m   6858\u001B[0m     \u001B[38;5;66;03m# so that each histogram uses the same bins\u001B[39;00m\n\u001B[1;32m-> 6859\u001B[0m     m, bins \u001B[38;5;241m=\u001B[39m np\u001B[38;5;241m.\u001B[39mhistogram(x[i], bins, weights\u001B[38;5;241m=\u001B[39mw[i], \u001B[38;5;241m*\u001B[39m\u001B[38;5;241m*\u001B[39mhist_kwargs)\n\u001B[0;32m   6860\u001B[0m     tops\u001B[38;5;241m.\u001B[39mappend(m)\n\u001B[0;32m   6861\u001B[0m tops \u001B[38;5;241m=\u001B[39m np\u001B[38;5;241m.\u001B[39marray(tops, \u001B[38;5;28mfloat\u001B[39m)  \u001B[38;5;66;03m# causes problems later if it's an int\u001B[39;00m\n",
      "File \u001B[1;32mD:\\S5\\APP5\\App2\\venv\\lib\\site-packages\\numpy\\lib\\histograms.py:780\u001B[0m, in \u001B[0;36mhistogram\u001B[1;34m(a, bins, range, density, weights)\u001B[0m\n\u001B[0;32m    680\u001B[0m \u001B[38;5;250m\u001B[39m\u001B[38;5;124mr\u001B[39m\u001B[38;5;124;03m\"\"\"\u001B[39;00m\n\u001B[0;32m    681\u001B[0m \u001B[38;5;124;03mCompute the histogram of a dataset.\u001B[39;00m\n\u001B[0;32m    682\u001B[0m \n\u001B[1;32m   (...)\u001B[0m\n\u001B[0;32m    776\u001B[0m \n\u001B[0;32m    777\u001B[0m \u001B[38;5;124;03m\"\"\"\u001B[39;00m\n\u001B[0;32m    778\u001B[0m a, weights \u001B[38;5;241m=\u001B[39m _ravel_and_check_weights(a, weights)\n\u001B[1;32m--> 780\u001B[0m bin_edges, uniform_bins \u001B[38;5;241m=\u001B[39m \u001B[43m_get_bin_edges\u001B[49m\u001B[43m(\u001B[49m\u001B[43ma\u001B[49m\u001B[43m,\u001B[49m\u001B[43m \u001B[49m\u001B[43mbins\u001B[49m\u001B[43m,\u001B[49m\u001B[43m \u001B[49m\u001B[38;5;28;43mrange\u001B[39;49m\u001B[43m,\u001B[49m\u001B[43m \u001B[49m\u001B[43mweights\u001B[49m\u001B[43m)\u001B[49m\n\u001B[0;32m    782\u001B[0m \u001B[38;5;66;03m# Histogram is an integer or a float array depending on the weights.\u001B[39;00m\n\u001B[0;32m    783\u001B[0m \u001B[38;5;28;01mif\u001B[39;00m weights \u001B[38;5;129;01mis\u001B[39;00m \u001B[38;5;28;01mNone\u001B[39;00m:\n",
      "File \u001B[1;32mD:\\S5\\APP5\\App2\\venv\\lib\\site-packages\\numpy\\lib\\histograms.py:426\u001B[0m, in \u001B[0;36m_get_bin_edges\u001B[1;34m(a, bins, range, weights)\u001B[0m\n\u001B[0;32m    423\u001B[0m     \u001B[38;5;28;01mif\u001B[39;00m n_equal_bins \u001B[38;5;241m<\u001B[39m \u001B[38;5;241m1\u001B[39m:\n\u001B[0;32m    424\u001B[0m         \u001B[38;5;28;01mraise\u001B[39;00m \u001B[38;5;167;01mValueError\u001B[39;00m(\u001B[38;5;124m'\u001B[39m\u001B[38;5;124m`bins` must be positive, when an integer\u001B[39m\u001B[38;5;124m'\u001B[39m)\n\u001B[1;32m--> 426\u001B[0m     first_edge, last_edge \u001B[38;5;241m=\u001B[39m \u001B[43m_get_outer_edges\u001B[49m\u001B[43m(\u001B[49m\u001B[43ma\u001B[49m\u001B[43m,\u001B[49m\u001B[43m \u001B[49m\u001B[38;5;28;43mrange\u001B[39;49m\u001B[43m)\u001B[49m\n\u001B[0;32m    428\u001B[0m \u001B[38;5;28;01melif\u001B[39;00m np\u001B[38;5;241m.\u001B[39mndim(bins) \u001B[38;5;241m==\u001B[39m \u001B[38;5;241m1\u001B[39m:\n\u001B[0;32m    429\u001B[0m     bin_edges \u001B[38;5;241m=\u001B[39m np\u001B[38;5;241m.\u001B[39masarray(bins)\n",
      "File \u001B[1;32mD:\\S5\\APP5\\App2\\venv\\lib\\site-packages\\numpy\\lib\\histograms.py:323\u001B[0m, in \u001B[0;36m_get_outer_edges\u001B[1;34m(a, range)\u001B[0m\n\u001B[0;32m    321\u001B[0m     first_edge, last_edge \u001B[38;5;241m=\u001B[39m a\u001B[38;5;241m.\u001B[39mmin(), a\u001B[38;5;241m.\u001B[39mmax()\n\u001B[0;32m    322\u001B[0m     \u001B[38;5;28;01mif\u001B[39;00m \u001B[38;5;129;01mnot\u001B[39;00m (np\u001B[38;5;241m.\u001B[39misfinite(first_edge) \u001B[38;5;129;01mand\u001B[39;00m np\u001B[38;5;241m.\u001B[39misfinite(last_edge)):\n\u001B[1;32m--> 323\u001B[0m         \u001B[38;5;28;01mraise\u001B[39;00m \u001B[38;5;167;01mValueError\u001B[39;00m(\n\u001B[0;32m    324\u001B[0m             \u001B[38;5;124m\"\u001B[39m\u001B[38;5;124mautodetected range of [\u001B[39m\u001B[38;5;132;01m{}\u001B[39;00m\u001B[38;5;124m, \u001B[39m\u001B[38;5;132;01m{}\u001B[39;00m\u001B[38;5;124m] is not finite\u001B[39m\u001B[38;5;124m\"\u001B[39m\u001B[38;5;241m.\u001B[39mformat(first_edge, last_edge))\n\u001B[0;32m    326\u001B[0m \u001B[38;5;66;03m# expand empty range to avoid divide by zero\u001B[39;00m\n\u001B[0;32m    327\u001B[0m \u001B[38;5;28;01mif\u001B[39;00m first_edge \u001B[38;5;241m==\u001B[39m last_edge:\n",
      "\u001B[1;31mValueError\u001B[0m: autodetected range of [nan, nan] is not finite"
     ]
    },
    {
     "data": {
      "text/plain": "<Figure size 640x480 with 1 Axes>",
      "image/png": "[encoded data removed]"
     },
     "metadata": {},
     "output_type": "display_data"
    }
   ],
   "source": [
    "N = 10000\n",
    "p = np.zeros(N)\n",
    "aleatoire = np.random.rand(N)\n",
    "lam = 10\n",
    "for i in range(N):\n",
    "    p[i] = (-np.log(1-aleatoire[i]))/lam\n",
    "\n",
    "q = np.zeros(N)\n",
    "aleatoire2 = np.random.rand(N) * std + moyenne \n",
    "for i in range(len(aleatoire)):\n",
    "     if aleatoire[i] >= 0.5:\n",
    "         q[i] =np.sqrt(- np.log(-(aleatoire2[i] * 2  -1 )**2 +1 ) / (np.sqrt(np.pi/8)))\n",
    "     else:\n",
    "         q[i] = -np.sqrt(- np.log(-(aleatoire2[i] * 2  -1 )**2 +1 ) / (np.sqrt(np.pi/8)))\n",
    "\n",
    "plt.hist(p)\n",
    "plt.show()\n",
    "plt.hist(q)\n",
    "plt.show()\n"
   ],
   "metadata": {
    "collapsed": false,
    "ExecuteTime": {
     "end_time": "2023-11-20T21:52:28.042393300Z",
     "start_time": "2023-11-20T21:52:27.656394500Z"
    }
   },
   "id": "98c390d6fb112a92"
  },
  {
   "cell_type": "code",
   "execution_count": null,
   "outputs": [],
   "source": [],
   "metadata": {
    "collapsed": false,
    "ExecuteTime": {
     "start_time": "2023-11-20T21:52:28.045894500Z"
    }
   },
   "id": "7e78a29c46c88dc6"
  },
  {
   "cell_type": "code",
   "execution_count": null,
   "outputs": [],
   "source": [],
   "metadata": {
    "collapsed": false,
    "ExecuteTime": {
     "end_time": "2023-11-20T21:52:28.049919900Z",
     "start_time": "2023-11-20T21:52:28.048420200Z"
    }
   },
   "id": "e9747a4c0129cfe"
  }
 ],
 "metadata": {
  "kernelspec": {
   "display_name": "Python 3",
   "language": "python",
   "name": "python3"
  },
  "language_info": {
   "codemirror_mode": {
    "name": "ipython",
    "version": 2
   },
   "file_extension": ".py",
   "mimetype": "text/x-python",
   "name": "python",
   "nbconvert_exporter": "python",
   "pygments_lexer": "ipython2",
   "version": "2.7.6"
  }
 },
 "nbformat": 4,
 "nbformat_minor": 5
}
