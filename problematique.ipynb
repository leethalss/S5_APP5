{
 "cells": [
  {
   "cell_type": "markdown",
   "id": "e325ddedda4e3f36",
   "metadata": {
    "ExecuteTime": {
     "end_time": "2023-11-17T17:26:42.865093500Z",
     "start_time": "2023-11-17T17:26:42.851632300Z"
    },
    "collapsed": false,
    "jupyter": {
     "outputs_hidden": false
    },
    "pycharm": {
     "name": "#%% md\n"
    }
   },
   "source": [
    "# Problématique\n",
    "## Mandat 1 (Probabilités)\n",
    "### Machine à sous\n",
    "i) Afin de déterminer quelle machine à le plus de chance d'offrir un pouvoir au joueur entre la machine 1 (3 roues ayant chacune 8 pictogramemes) et la machine 2 (4 roues ayant chacunes 5 pictogrammes), il suffit d'utiliser les technique de dénombrements afin de déterminer les probabilité que chaque roue s'arrêtent sur un même pictogramme. Ce faisant on trouve que la machine ayant le plus de chance d'offrir un pouvoir est la machine 1.\n"
   ]
  },
  {
   "cell_type": "code",
   "execution_count": 1,
   "id": "e099b503472d7a4d",
   "metadata": {
    "ExecuteTime": {
     "end_time": "2023-11-17T17:26:42.953338700Z",
     "start_time": "2023-11-17T17:26:42.859115600Z"
    },
    "collapsed": false,
    "jupyter": {
     "outputs_hidden": false
    }
   },
   "outputs": [
    {
     "name": "stdout",
     "output_type": "stream",
     "text": [
      "Probabilité machine 1 : 0.001953125\n",
      "Probabilité machine 2 : 0.0016000000000000003\n"
     ]
    }
   ],
   "source": [
    "import numpy as np\n",
    "\n",
    "# 3 roues avec 8 pictogrammes\n",
    "prob_machine_1 = (1/8)**3\n",
    "print(f'Probabilité machine 1 : {prob_machine_1}')\n",
    "# 4 roues avec 5 pictogrammes\n",
    "prob_machine_2 = (1/5)**4\n",
    "print(f'Probabilité machine 2 : {prob_machine_2}')\n"
   ]
  },
  {
   "cell_type": "markdown",
   "id": "895a212a",
   "metadata": {
    "collapsed": false,
    "jupyter": {
     "outputs_hidden": false
    },
    "pycharm": {
     "name": "#%% md\n"
    }
   },
   "source": [
    "ii) Afin de déterminer  les probabilités d'obtenir un pouvoir lorsque toutes les roues s'arrêtent sur un pictogramme différent, il suffit de faire appel aux permutations puisqu'il s'agit d'un arrangement ordonné."
   ]
  },
  {
   "cell_type": "code",
   "execution_count": 2,
   "id": "3b739f05",
   "metadata": {
    "collapsed": false,
    "jupyter": {
     "outputs_hidden": false
    },
    "pycharm": {
     "name": "#%%\n"
    }
   },
   "outputs": [
    {
     "name": "stdout",
     "output_type": "stream",
     "text": [
      "La probabilité de la machine 1 est : 65.625%\n",
      "La probabilité de la machine 2 est : 23.4375%\n"
     ]
    }
   ],
   "source": [
    "import math\n",
    "n_1, n_2 = 8, 5\n",
    "r_1, r_2 = 3, 4\n",
    "permutation_machine_1 = math.factorial(n_1)/math.factorial(n_1 - r_1)\n",
    "permutation_machine_2 = math.factorial(n_2)/math.factorial(n_2 - r_2)\n",
    "\n",
    "print(f'La probabilité de la machine 1 est : {permutation_machine_1/512 * 100}%')\n",
    "print(f'La probabilité de la machine 2 est : {permutation_machine_2/512 * 100}%')\n"
   ]
  },
  {
   "cell_type": "markdown",
   "id": "38b4a337",
   "metadata": {
    "collapsed": false,
    "jupyter": {
     "outputs_hidden": false
    },
    "pycharm": {
     "name": "#%% md\n"
    }
   },
   "source": [
    "iii) Afin de déterminer les probabilité d'obtenir un pouvoir lorsque l'on réussi à avoir le même pictogramme sur toutes les roues au moins deux fois sur 5 lancés, il faut utiliser la fonction de masse de la loi binomiale... À compléter"
   ]
  },
  {
   "cell_type": "code",
   "execution_count": 3,
   "id": "af11d35ee335c821",
   "metadata": {
    "ExecuteTime": {
     "end_time": "2023-11-17T17:26:42.965015100Z",
     "start_time": "2023-11-17T17:26:42.951346Z"
    },
    "collapsed": false,
    "jupyter": {
     "outputs_hidden": false
    }
   },
   "outputs": [
    {
     "name": "stdout",
     "output_type": "stream",
     "text": [
      "3.799817920935311e-05\n",
      "0.009765625\n",
      "0.009746551513671875\n",
      "2.5518178262351476e-05\n",
      "0.012800000000000002\n",
      "0.012779520000000003\n"
     ]
    }
   ],
   "source": [
    "probabilite_1 = (1 - (math.comb(5, 0) * (prob_machine_1**0)*(1-prob_machine_1)**5 +\n",
    "                 math.comb(5,1)*(prob_machine_1**1)*(1-prob_machine_1)**4))\n",
    "moy_1 = 5*prob_machine_1\n",
    "var_1 = moy_1*(1-prob_machine_1)\n",
    "print(\"Probalilité de la machine 1\", probabilite_1)\n",
    "print(\"Moyenne de la variable aléatoire (Machine 1)\" ,moy_1)\n",
    "print(\"Variance de la variable aléatoire (Machine 1)\",var_1)\n",
    "probabilite_2 = 1 - (math.comb(5, 0) * (prob_machine_2**0)*(1-prob_machine_2)**5 +\n",
    "                math.comb(5,1)*(prob_machine_2**1)*(1-prob_machine_2)**4)\n",
    "\n",
    "moy_2 = 8*prob_machine_2\n",
    "var_2 = moy_2*(1-prob_machine_2)\n",
    "print(\"Probalilité de la machine 2\", probabilite_2)\n",
    "print(\"Moyenne de la variable aléatoire (Machine 2)\" ,moy_2)\n",
    "print(\"Variance de la variable aléatoire (Machine 2)\",var_2)"
   ]
  },
  {
   "cell_type": "markdown",
   "id": "8fc602ab39caf72",
   "metadata": {
    "ExecuteTime": {
     "end_time": "2023-11-17T17:26:42.965015100Z",
     "start_time": "2023-11-17T17:26:42.958042200Z"
    },
    "collapsed": false,
    "jupyter": {
     "outputs_hidden": false
    },
    "pycharm": {
     "name": "#%% md\n"
    }
   },
   "source": [
    "### Ouverture de la porte\n",
    "...."
   ]
  },
  {
   "cell_type": "markdown",
   "id": "4d971433",
   "metadata": {
    "collapsed": false,
    "jupyter": {
     "outputs_hidden": false
    }
   },
   "source": [
    "## Mandat no 2 : Statistiques\n",
    "\n",
    "i) Un échantillon présentant des temps de jeu de joueurs est présenté dans le fichier \"TempsDeJeux.txt\".Les statistique descriptives ont été calculés et sont présentées dans le tableau ci-bas.\n"
   ]
  },
  {
   "cell_type": "code",
   "execution_count": null,
   "id": "36d481bd",
   "metadata": {
    "collapsed": false,
    "jupyter": {
     "outputs_hidden": false
    },
    "pycharm": {
     "name": "#%%\n"
    }
   },
   "outputs": [],
   "source": [
    "from statistics import mode\n",
    "import pandas as pd\n",
    "file = np.loadtxt('TempsDeJeu.txt')\n",
    "nbEchantillons = len(file)\n",
    "moyenne = np.mean(file)\n",
    "print(f'Moyenne : {moyenne}')\n",
    "medianne = np.median(file)\n",
    "print(f'Medianne : {medianne}')\n",
    "mode = mode(file)\n",
    "print(f'Mode : {mode}')\n",
    "std = np.std(file)\n",
    "print(f'Écart type : {std}')\n",
    "var = std**2\n",
    "print(f'Variance : {var}')\n",
    "min = np.min(file)\n",
    "print(f'Min : {min}')\n",
    "max = np.max(file)\n",
    "print(f'Max : {max}')\n",
    "etendue = max - min\n",
    "print(f'Étendue : {etendue}')\n",
    "\n",
    "data = {\n",
    "    'Statistique': ['Moyenne échantillonnale', 'Médiane', 'Mode', 'Écart type', 'Variance', 'Minimum', 'Maximum', 'Étendue'],\n",
    "    'Valeur': [moyenne, medianne, mode_value, std, var, min_val, max_val, etendue]\n",
    "\n",
    "\n",
    "}\n",
    "pd.DataFrame(data)\n"
   ]
  },
  {
   "cell_type": "markdown",
   "id": "61a8ec93",
   "metadata": {
    "collapsed": false,
    "jupyter": {
     "outputs_hidden": false
    },
    "pycharm": {
     "name": "#%% md\n"
    }
   },
   "source": [
    "ii) Un histogramme a été créer en utilisant le tableau ci-bas. Afin de déterminer le nombre de classes à utiliser dans l'historamme, la racine carrée du nombre d'échantillons a été utiliser. Il suffisait alors de déterminer des limites pour les classes qui faisaient du sens avec le min et le max de la population et de compter l'occurence pour chaque classe."
   ]
  },
  {
   "cell_type": "code",
   "execution_count": 4,
   "id": "8b1ae803a409685c",
   "metadata": {
    "ExecuteTime": {
     "end_time": "2023-11-17T17:26:43.337948700Z",
     "start_time": "2023-11-17T17:26:42.964019800Z"
    },
    "collapsed": false,
    "jupyter": {
     "outputs_hidden": false
    }
   },
   "outputs": [
    {
     "name": "stdout",
     "output_type": "stream",
     "text": [
      "Moyenne : 280.58\n",
      "Medianne : 279.0\n",
      "Mode : 291.0\n",
      "Écart type : 50.12448104469512\n",
      "Variance : 2512.463600000001\n",
      "Min : 148.0\n",
      "Max : 382.0\n",
      "Étendue : 234.0\n"
     ]
    },
    {
     "data": {
      "text/html": [
       "<div>\n",
       "<style scoped>\n",
       "    .dataframe tbody tr th:only-of-type {\n",
       "        vertical-align: middle;\n",
       "    }\n",
       "\n",
       "    .dataframe tbody tr th {\n",
       "        vertical-align: top;\n",
       "    }\n",
       "\n",
       "    .dataframe thead th {\n",
       "        text-align: right;\n",
       "    }\n",
       "</style>\n",
       "<table border=\"1\" class=\"dataframe\">\n",
       "  <thead>\n",
       "    <tr style=\"text-align: right;\">\n",
       "      <th></th>\n",
       "      <th>Classes</th>\n",
       "      <th>Limites_min</th>\n",
       "      <th>Limites_max</th>\n",
       "      <th>Centres</th>\n",
       "      <th>Frequences</th>\n",
       "      <th>Frequences relative</th>\n",
       "      <th>Frequences cumulative</th>\n",
       "    </tr>\n",
       "  </thead>\n",
       "  <tbody>\n",
       "    <tr>\n",
       "      <th>0</th>\n",
       "      <td>0.0</td>\n",
       "      <td>148.0</td>\n",
       "      <td>172.0</td>\n",
       "      <td>160.0</td>\n",
       "      <td>2.0</td>\n",
       "      <td>0.02</td>\n",
       "      <td>2.0</td>\n",
       "    </tr>\n",
       "    <tr>\n",
       "      <th>1</th>\n",
       "      <td>1.0</td>\n",
       "      <td>172.0</td>\n",
       "      <td>196.0</td>\n",
       "      <td>184.0</td>\n",
       "      <td>3.0</td>\n",
       "      <td>0.03</td>\n",
       "      <td>5.0</td>\n",
       "    </tr>\n",
       "    <tr>\n",
       "      <th>2</th>\n",
       "      <td>2.0</td>\n",
       "      <td>196.0</td>\n",
       "      <td>220.0</td>\n",
       "      <td>208.0</td>\n",
       "      <td>6.0</td>\n",
       "      <td>0.06</td>\n",
       "      <td>11.0</td>\n",
       "    </tr>\n",
       "    <tr>\n",
       "      <th>3</th>\n",
       "      <td>3.0</td>\n",
       "      <td>220.0</td>\n",
       "      <td>244.0</td>\n",
       "      <td>232.0</td>\n",
       "      <td>8.0</td>\n",
       "      <td>0.08</td>\n",
       "      <td>19.0</td>\n",
       "    </tr>\n",
       "    <tr>\n",
       "      <th>4</th>\n",
       "      <td>4.0</td>\n",
       "      <td>244.0</td>\n",
       "      <td>268.0</td>\n",
       "      <td>256.0</td>\n",
       "      <td>21.0</td>\n",
       "      <td>0.21</td>\n",
       "      <td>40.0</td>\n",
       "    </tr>\n",
       "    <tr>\n",
       "      <th>5</th>\n",
       "      <td>5.0</td>\n",
       "      <td>268.0</td>\n",
       "      <td>292.0</td>\n",
       "      <td>280.0</td>\n",
       "      <td>22.0</td>\n",
       "      <td>0.22</td>\n",
       "      <td>62.0</td>\n",
       "    </tr>\n",
       "    <tr>\n",
       "      <th>6</th>\n",
       "      <td>6.0</td>\n",
       "      <td>292.0</td>\n",
       "      <td>316.0</td>\n",
       "      <td>304.0</td>\n",
       "      <td>15.0</td>\n",
       "      <td>0.15</td>\n",
       "      <td>77.0</td>\n",
       "    </tr>\n",
       "    <tr>\n",
       "      <th>7</th>\n",
       "      <td>7.0</td>\n",
       "      <td>316.0</td>\n",
       "      <td>340.0</td>\n",
       "      <td>328.0</td>\n",
       "      <td>9.0</td>\n",
       "      <td>0.09</td>\n",
       "      <td>86.0</td>\n",
       "    </tr>\n",
       "    <tr>\n",
       "      <th>8</th>\n",
       "      <td>8.0</td>\n",
       "      <td>340.0</td>\n",
       "      <td>364.0</td>\n",
       "      <td>352.0</td>\n",
       "      <td>8.0</td>\n",
       "      <td>0.08</td>\n",
       "      <td>94.0</td>\n",
       "    </tr>\n",
       "    <tr>\n",
       "      <th>9</th>\n",
       "      <td>9.0</td>\n",
       "      <td>364.0</td>\n",
       "      <td>388.0</td>\n",
       "      <td>376.0</td>\n",
       "      <td>6.0</td>\n",
       "      <td>0.06</td>\n",
       "      <td>100.0</td>\n",
       "    </tr>\n",
       "  </tbody>\n",
       "</table>\n",
       "</div>"
      ],
      "text/plain": [
       "   Classes  Limites_min  Limites_max  Centres  Frequences  \\\n",
       "0      0.0        148.0        172.0    160.0         2.0   \n",
       "1      1.0        172.0        196.0    184.0         3.0   \n",
       "2      2.0        196.0        220.0    208.0         6.0   \n",
       "3      3.0        220.0        244.0    232.0         8.0   \n",
       "4      4.0        244.0        268.0    256.0        21.0   \n",
       "5      5.0        268.0        292.0    280.0        22.0   \n",
       "6      6.0        292.0        316.0    304.0        15.0   \n",
       "7      7.0        316.0        340.0    328.0         9.0   \n",
       "8      8.0        340.0        364.0    352.0         8.0   \n",
       "9      9.0        364.0        388.0    376.0         6.0   \n",
       "\n",
       "   Frequences relative  Frequences cumulative  \n",
       "0                 0.02                    2.0  \n",
       "1                 0.03                    5.0  \n",
       "2                 0.06                   11.0  \n",
       "3                 0.08                   19.0  \n",
       "4                 0.21                   40.0  \n",
       "5                 0.22                   62.0  \n",
       "6                 0.15                   77.0  \n",
       "7                 0.09                   86.0  \n",
       "8                 0.08                   94.0  \n",
       "9                 0.06                  100.0  "
      ]
     },
     "execution_count": 4,
     "metadata": {},
     "output_type": "execute_result"
    }
   ],
   "source": [
    "\n",
    "\n",
    "classes = []\n",
    "limites_min = []\n",
    "limites_max = []\n",
    "centres = []\n",
    "frequences = []\n",
    "frequences_relative = []\n",
    "frequences_cumul = []\n",
    "cumul = 0\n",
    "for i in range(0, int(np.sqrt(len(file)))):\n",
    "    classes.append(i)\n",
    "    limites_min.append(min + i*(24))\n",
    "    limites_max.append(min + (i+1)*(24))\n",
    "    centres.append((limites_min[i] + limites_max[i])/2)\n",
    "    occurence = 0\n",
    "    for k in file:\n",
    "        if k >= limites_min[i] and k < limites_max[i]:\n",
    "            occurence += 1\n",
    "            cumul += 1\n",
    "    frequences.append(occurence)\n",
    "    frequences_relative.append(occurence/len(file))\n",
    "    frequences_cumul.append(cumul)\n",
    "bigasstab = [classes, limites_min, limites_max, centres, frequences, frequences_relative, frequences_cumul]\n",
    "\n",
    "\n",
    "pd.DataFrame(np.transpose(bigasstab), columns=['Classes', 'Limites_min', 'Limites_max', 'Centres', 'Frequences', 'Frequences relative', 'Frequences cumulative'])"
   ]
  },
  {
   "cell_type": "code",
   "execution_count": 5,
   "id": "5568f099225cfb54",
   "metadata": {
    "ExecuteTime": {
     "end_time": "2023-11-17T17:26:43.719511100Z",
     "start_time": "2023-11-17T17:26:43.334957900Z"
    },
    "collapsed": false,
    "jupyter": {
     "outputs_hidden": false
    }
   },
   "outputs": [
    {
     "data": {
      "image/png": "[encoded data removed]",
      "text/plain": [
       "<Figure size 640x480 with 1 Axes>"
      ]
     },
     "metadata": {},
     "output_type": "display_data"
    }
   ],
   "source": [
    "import matplotlib.pyplot as plt\n",
    "\n",
    "plt.hist(file, bins=range(int(min), int(max) +24, 24))\n",
    "plt.title(\"Histogramme du temps de jeux des joueurs\")\n",
    "plt.xlabel(\"Temps (minutes)\")\n",
    "plt.ylabel(\"Nombre de joueurs\")\n",
    "plt.show()"
   ]
  },
  {
   "cell_type": "markdown",
   "id": "01804375",
   "metadata": {
    "collapsed": false,
    "jupyter": {
     "outputs_hidden": false
    },
    "pycharm": {
     "name": "#%% md\n"
    }
   },
   "source": [
    "iii) En utilisant les tables de la distributions normale, un intervale de confiance sur la moyenne a été calculée avec un niveau de confiance de 95 %"
   ]
  },
  {
   "cell_type": "code",
   "execution_count": 6,
   "id": "c9acbed2fb751540",
   "metadata": {
    "ExecuteTime": {
     "end_time": "2023-11-17T17:26:43.720507500Z",
     "start_time": "2023-11-17T17:26:43.714781900Z"
    },
    "collapsed": false,
    "jupyter": {
     "outputs_hidden": false
    }
   },
   "outputs": [
    {
     "name": "stdout",
     "output_type": "stream",
     "text": [
      "270.7556017152397 <= u <= 290.40439828476025\n"
     ]
    }
   ],
   "source": [
    "interval_borne_min = moyenne-1.96*std/np.sqrt(100)\n",
    "interval_borne_max = moyenne+1.96*std/np.sqrt(100)\n",
    "print(f'{interval_borne_min} <= u <= {interval_borne_max}')"
   ]
  },
  {
   "cell_type": "markdown",
   "id": "f6e93196",
   "metadata": {
    "collapsed": false,
    "jupyter": {
     "outputs_hidden": false
    },
    "pycharm": {
     "name": "#%% md\n"
    }
   },
   "source": [
    "iv) Le patron du jeux vidéo estime que le temps moyen de jeu des joueurs est d'au moins 5h (300 minutes). Afin de valider ou non cette hyptohese, un test d'hypothèse sera effectuer.On a donc:\n",
    "  $μ_0 = 500$\n",
    "  $H_0 =\\mu\\ge\\mu_0$\n",
    "  $H_1 = \\mu < \\mu_0$\n",
    "Nous utiliserons la statistique de test $Z_0 = (\\bar{X} - \\mu_0)/(\\sigma / \\sqrt n)$ puisque la variance est connue (point i)\n",
    "Afin de rejeter ou non l'hypothèse $H_0$, il suffit alors d'utiliser le Critère de rejet de $H_0$: $Z_0 < -Z_\\alpha$ ou $Z_\\alpha = 1.96$ avec un niveau de confiance de 95%"
   ]
  },
  {
   "cell_type": "code",
   "execution_count": null,
   "outputs": [],
   "source": [
    "U0 = 500\n",
    "#calcul de Z0\n",
    "Z0 = (moyenne - U0)/((std/np.sqrt(nbEchantillons)))\n",
    "Za = 1.96\n",
    "if Z0 < Za * -1:\n",
    "    print(\"L'hypotèse est rejetée\")\n",
    "else:\n",
    "    print(\"L'hypothèse est retenue\")\n",
    "\n"
   ],
   "metadata": {
    "collapsed": false,
    "pycharm": {
     "name": "#%%\n"
    }
   }
  },
  {
   "cell_type": "markdown",
   "source": [
    "L'erreur de première espece est la probabilité de rejeter à tort l'hypothèse émise :\n",
    "$P(rejeter\\; H_0 | H_0\\;est\\;vraie)$\n",
    "$P(\\bar{X} < 500 | \\mu = 500)$\n",
    "$P( Z < (500-280.58)/(50.1244/ \\sqrt100))$"
   ],
   "metadata": {
    "collapsed": false,
    "pycharm": {
     "name": "#%% md\n"
    }
   }
  },
  {
   "cell_type": "markdown",
   "source": [],
   "metadata": {
    "collapsed": false
   }
  }
 ],
 "metadata": {
  "kernelspec": {
   "display_name": "Python 3 (ipykernel)",
   "language": "python",
   "name": "python3"
  },
  "language_info": {
   "codemirror_mode": {
    "name": "ipython",
    "version": 3
   },
   "file_extension": ".py",
   "mimetype": "text/x-python",
   "name": "python",
   "nbconvert_exporter": "python",
   "pygments_lexer": "ipython3",
   "version": "3.9.10"
  }
 },
 "nbformat": 4,
 "nbformat_minor": 5
}